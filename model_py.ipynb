{
  "nbformat": 4,
  "nbformat_minor": 0,
  "metadata": {
    "colab": {
      "provenance": []
    },
    "kernelspec": {
      "name": "python3",
      "display_name": "Python 3"
    },
    "language_info": {
      "name": "python"
    }
  },
  "cells": [
    {
      "cell_type": "code",
      "source": [
        "#importing the libraries\n",
        "import numpy as py\n",
        "import matplotlib.pyplot as plt\n",
        "import pandas as pd\n",
        "import pickle\n",
        "\n",
        "#importing the dataset\n",
        "dataset = pd.read_csv('dataset credit card default.csv')\n",
        "# Selecting the same number of columns that the model was trained on.\n",
        "# Assuming the target is the 25th column based on the error.\n",
        "X=dataset.iloc[:,:24].values  # Selecting the first 24 columns for features.\n",
        "y=dataset.iloc[:,24].values  # Selecting the 25th column as the target.\n",
        "\n",
        "#fitting multiple linear regression to the training set\n",
        "from sklearn.linear_model import LinearRegression\n",
        "regressor = LinearRegression()\n",
        "regressor.fit(X,y)\n",
        "\n",
        "#saving model to disk\n",
        "pickle.dump(regressor,open('model.pkl','wb'))\n",
        "\n",
        "#loading model to compare the results\n",
        "model = pickle.load(open('model.pkl','rb'))\n",
        "\n",
        "# Reshape your prediction input to have 24 features. Replace ... with actual values\n",
        "#  print(model.predict([[40, 30000, 1, ... , ...]]))  # Input should have 24 values.\n",
        "\n",
        "#Example for predicting on the first row of the dataset.\n",
        "print(model.predict([X[0]]))"
      ],
      "metadata": {
        "colab": {
          "base_uri": "https://localhost:8080/"
        },
        "id": "mTQ_2SNAwVZe",
        "outputId": "3abba657-38c1-469e-f32b-699e1419c595"
      },
      "execution_count": null,
      "outputs": [
        {
          "output_type": "stream",
          "name": "stdout",
          "text": [
            "[0.46435325]\n"
          ]
        }
      ]
    }
  ]
}